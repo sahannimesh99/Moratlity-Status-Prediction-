{
 "cells": [
  {
   "cell_type": "code",
   "execution_count": 1,
   "id": "6b2b2c6e",
   "metadata": {
    "execution": {
     "iopub.execute_input": "2024-11-24T09:06:26.805210Z",
     "iopub.status.busy": "2024-11-24T09:06:26.804823Z",
     "iopub.status.idle": "2024-11-24T09:06:29.769134Z",
     "shell.execute_reply": "2024-11-24T09:06:29.767835Z"
    },
    "papermill": {
     "duration": 2.97577,
     "end_time": "2024-11-24T09:06:29.771676",
     "exception": false,
     "start_time": "2024-11-24T09:06:26.795906",
     "status": "completed"
    },
    "tags": []
   },
   "outputs": [
    {
     "name": "stdout",
     "output_type": "stream",
     "text": [
      "done !\n"
     ]
    }
   ],
   "source": [
    "import pandas as pd\n",
    "import numpy as np\n",
    "import matplotlib.pyplot as plt\n",
    "from sklearn.model_selection import train_test_split\n",
    "from sklearn.linear_model import LogisticRegression\n",
    "from sklearn.neighbors import KNeighborsClassifier\n",
    "from sklearn.naive_bayes import GaussianNB\n",
    "\n",
    "data = pd.read_csv('/kaggle/input/cw-ml-dataset/Breast_Cancer_Mortality_Survival_Dataset.csv')\n",
    "print('done !')"
   ]
  },
  {
   "cell_type": "code",
   "execution_count": 2,
   "id": "39442553",
   "metadata": {
    "execution": {
     "iopub.execute_input": "2024-11-24T09:06:29.786124Z",
     "iopub.status.busy": "2024-11-24T09:06:29.785627Z",
     "iopub.status.idle": "2024-11-24T09:06:29.790763Z",
     "shell.execute_reply": "2024-11-24T09:06:29.789544Z"
    },
    "papermill": {
     "duration": 0.014817,
     "end_time": "2024-11-24T09:06:29.792824",
     "exception": false,
     "start_time": "2024-11-24T09:06:29.778007",
     "status": "completed"
    },
    "tags": []
   },
   "outputs": [],
   "source": [
    "# First Model -  Predictive machine-learning model for breast cancer mortality status.\n",
    "# NB - Naïve Bayes\n",
    "# LR - Logistic Regression\n",
    "# KNN - K Nearest Neighbors\n",
    "\n",
    "\n",
    "# I have changed the column headers of the dataset (putting underscore [_] instead of space) . "
   ]
  },
  {
   "cell_type": "code",
   "execution_count": 3,
   "id": "17e0dc72",
   "metadata": {
    "execution": {
     "iopub.execute_input": "2024-11-24T09:06:29.807998Z",
     "iopub.status.busy": "2024-11-24T09:06:29.807552Z",
     "iopub.status.idle": "2024-11-24T09:06:29.852613Z",
     "shell.execute_reply": "2024-11-24T09:06:29.851338Z"
    },
    "papermill": {
     "duration": 0.056086,
     "end_time": "2024-11-24T09:06:29.855014",
     "exception": false,
     "start_time": "2024-11-24T09:06:29.798928",
     "status": "completed"
    },
    "tags": []
   },
   "outputs": [
    {
     "name": "stdout",
     "output_type": "stream",
     "text": [
      "Before conversion :\n",
      " Index(['Patient ID ', 'Moth of Birth', 'Age', 'Sex', 'Race', 'Marital Status',\n",
      "       'Occupation Code', 'Adopted Status', 'T Stage ', 'N Stage', '6th Stage',\n",
      "       'differentiate', 'Grade', 'A Stage', 'Tumor Size', 'Estrogen Status',\n",
      "       'Progesterone Status', 'Regional Node Examined',\n",
      "       'Reginol Node Positive', 'Survival Months', 'Mortality_Status'],\n",
      "      dtype='object')\n",
      "After conversion :\n",
      " Index(['Patient_ID_', 'Moth_of_Birth', 'Age', 'Sex', 'Race', 'Marital_Status',\n",
      "       'Occupation_Code', 'Adopted_Status', 'T_Stage_', 'N_Stage', '6th_Stage',\n",
      "       'differentiate', 'Grade', 'A_Stage', 'Tumor_Size', 'Estrogen_Status',\n",
      "       'Progesterone_Status', 'Regional_Node_Examined',\n",
      "       'Reginol_Node_Positive', 'Survival_Months', 'Mortality_Status'],\n",
      "      dtype='object')\n"
     ]
    }
   ],
   "source": [
    "print('Before conversion :\\n',data.columns)\n",
    "# Replace spaces in column headers with underscores\n",
    "data.columns = data.columns.str.replace(' ', '_')\n",
    "\n",
    "print('After conversion :\\n',data.columns)\n",
    "\n",
    "# Save the updated dataframe to a new CSV file (optional)\n",
    "data.to_csv('/kaggle/working/Updated_Dataset.csv', index=False)\n"
   ]
  },
  {
   "cell_type": "code",
   "execution_count": 4,
   "id": "593cbfad",
   "metadata": {
    "execution": {
     "iopub.execute_input": "2024-11-24T09:06:29.869152Z",
     "iopub.status.busy": "2024-11-24T09:06:29.868734Z",
     "iopub.status.idle": "2024-11-24T09:06:29.917124Z",
     "shell.execute_reply": "2024-11-24T09:06:29.915794Z"
    },
    "papermill": {
     "duration": 0.058568,
     "end_time": "2024-11-24T09:06:29.919748",
     "exception": false,
     "start_time": "2024-11-24T09:06:29.861180",
     "status": "completed"
    },
    "tags": []
   },
   "outputs": [
    {
     "name": "stdout",
     "output_type": "stream",
     "text": [
      "Missing values:\n",
      " Patient_ID_                0\n",
      "Moth_of_Birth              0\n",
      "Age                        9\n",
      "Sex                       77\n",
      "Race                       0\n",
      "Marital_Status             0\n",
      "Occupation_Code            3\n",
      "Adopted_Status             0\n",
      "T_Stage_                   0\n",
      "N_Stage                    0\n",
      "6th_Stage                  0\n",
      "differentiate              0\n",
      "Grade                      0\n",
      "A_Stage                    0\n",
      "Tumor_Size                 3\n",
      "Estrogen_Status            0\n",
      "Progesterone_Status        0\n",
      "Regional_Node_Examined     1\n",
      "Reginol_Node_Positive      0\n",
      "Survival_Months            0\n",
      "Mortality_Status           4\n",
      "dtype: int64\n",
      "Data cleaning completed!\n"
     ]
    },
    {
     "name": "stderr",
     "output_type": "stream",
     "text": [
      "/tmp/ipykernel_17/2478455111.py:10: FutureWarning: Downcasting behavior in `replace` is deprecated and will be removed in a future version. To retain the old behavior, explicitly call `result.infer_objects(copy=False)`. To opt-in to the future behavior, set `pd.set_option('future.no_silent_downcasting', True)`\n",
      "  data['Mortality_Status'] = data['Mortality_Status'].replace({'alive': 0, 'dead': 1})\n"
     ]
    }
   ],
   "source": [
    "# Check for missing values and data types\n",
    "missing_values = data.isnull().sum()\n",
    "print('Missing values:\\n', missing_values)\n",
    "\n",
    "# Drop irrelevant features\n",
    "data = data.drop(columns=['Patient_ID_', 'Moth_of_Birth'])\n",
    "\n",
    "# Standardize the target variable\n",
    "data['Mortality_Status'] = data['Mortality_Status'].str.strip().str.lower()\n",
    "data['Mortality_Status'] = data['Mortality_Status'].replace({'alive': 0, 'dead': 1})\n",
    "\n",
    "# Handle missing values\n",
    "numerical_columns = ['Age', 'Occupation_Code', 'Tumor_Size', 'Regional_Node_Examined']\n",
    "for col in numerical_columns:\n",
    "    data[col] = pd.to_numeric(data[col], errors='coerce')  # Ensure numeric conversion\n",
    "    data[col] = data[col].fillna(data[col].median())\n",
    "\n",
    "data['Sex'] = data['Sex'].fillna(data['Sex'].mode()[0])\n",
    "data = data.dropna(subset=['Mortality_Status'])\n",
    "print('Data cleaning completed!')\n"
   ]
  },
  {
   "cell_type": "code",
   "execution_count": 5,
   "id": "d4213a87",
   "metadata": {
    "execution": {
     "iopub.execute_input": "2024-11-24T09:06:29.935051Z",
     "iopub.status.busy": "2024-11-24T09:06:29.934640Z",
     "iopub.status.idle": "2024-11-24T09:06:29.994154Z",
     "shell.execute_reply": "2024-11-24T09:06:29.992975Z"
    },
    "papermill": {
     "duration": 0.07108,
     "end_time": "2024-11-24T09:06:29.996981",
     "exception": false,
     "start_time": "2024-11-24T09:06:29.925901",
     "status": "completed"
    },
    "tags": []
   },
   "outputs": [
    {
     "name": "stdout",
     "output_type": "stream",
     "text": [
      "       Age     Sex   Race Marital_Status  Occupation_Code  Adopted_Status  \\\n",
      "0     68.0  Female  White        Married             11.0               1   \n",
      "1     50.0  Female  White        Married             11.0               0   \n",
      "2     58.0  Female  White       Divorced              9.0               0   \n",
      "3     58.0  Female  White        Married             10.0               0   \n",
      "4     47.0  Female  White        Married             12.0               0   \n",
      "...    ...     ...    ...            ...              ...             ...   \n",
      "4019  62.0  Female  Other        Married              8.0               1   \n",
      "4020  56.0  Female  White       Divorced              3.0               0   \n",
      "4021  68.0  Female  White        Married              2.0               1   \n",
      "4022  58.0  Female  Black       Divorced              8.0               0   \n",
      "4023  46.0  Female  White        Married             11.0               1   \n",
      "\n",
      "     T_Stage_ N_Stage 6th_Stage              differentiate  Grade   A_Stage  \\\n",
      "0          T1      N1       IIA      Poorly differentiated      3  Regional   \n",
      "1          T2      N2      IIIA  Moderately differentiated      2  Regional   \n",
      "2          T3      N3      IIIC  Moderately differentiated      2  Regional   \n",
      "3          T1      N1       IIA      Poorly differentiated      3  Regional   \n",
      "4          T2      N1       IIB      Poorly differentiated      3  Regional   \n",
      "...       ...     ...       ...                        ...    ...       ...   \n",
      "4019       T1      N1       IIA  Moderately differentiated      2  Regional   \n",
      "4020       T2      N2      IIIA  Moderately differentiated      2  Regional   \n",
      "4021       T2      N1       IIB  Moderately differentiated      2  Regional   \n",
      "4022       T2      N1       IIB  Moderately differentiated      2  Regional   \n",
      "4023       T2      N1       IIB  Moderately differentiated      2  Regional   \n",
      "\n",
      "      Tumor_Size Estrogen_Status Progesterone_Status  Regional_Node_Examined  \\\n",
      "0            4.0        Positive            Positive                    24.0   \n",
      "1           35.0        Positive            Positive                    14.0   \n",
      "2           63.0        Positive            Positive                    14.0   \n",
      "3           18.0        Positive            Positive                     2.0   \n",
      "4           41.0        Positive            Positive                     3.0   \n",
      "...          ...             ...                 ...                     ...   \n",
      "4019         9.0        Positive            Positive                     1.0   \n",
      "4020        46.0        Positive            Positive                    14.0   \n",
      "4021        22.0        Positive            Negative                    11.0   \n",
      "4022        44.0        Positive            Positive                    11.0   \n",
      "4023        30.0        Positive            Positive                     7.0   \n",
      "\n",
      "     Reginol_Node_Positive  Survival_Months  Mortality_Status  \n",
      "0                        1               60               0.0  \n",
      "1                        5               62               0.0  \n",
      "2                        7               75               0.0  \n",
      "3                        1               84               0.0  \n",
      "4                        1               50               0.0  \n",
      "...                    ...              ...               ...  \n",
      "4019                     1               49               0.0  \n",
      "4020                     8               69               0.0  \n",
      "4021                     3               69               0.0  \n",
      "4022                     1               72               0.0  \n",
      "4023                     2              100               0.0  \n",
      "\n",
      "[4009 rows x 19 columns]\n"
     ]
    }
   ],
   "source": [
    "# Apply the filtering conditions\n",
    "df = data[\n",
    "    (data['Age'] >= 18) & (data['Age'] <= 85) & \n",
    "    (data['Tumor_Size'] >= 1.0) & (data['Tumor_Size'] <= 250.0) & \n",
    "    (data['Regional_Node_Examined'] >= 0.0) & (data['Regional_Node_Examined'] <= 50.0) \n",
    "]\n",
    "\n",
    "# Display the filtered dataframe to verify\n",
    "print(df)\n",
    "\n",
    "# Save the filtered dataframe to a new CSV file (optional)\n",
    "df.to_csv('/kaggle/working/Filtered_Dataset.csv', index=False)\n"
   ]
  },
  {
   "cell_type": "code",
   "execution_count": 6,
   "id": "cd8d60db",
   "metadata": {
    "execution": {
     "iopub.execute_input": "2024-11-24T09:06:30.011990Z",
     "iopub.status.busy": "2024-11-24T09:06:30.011544Z",
     "iopub.status.idle": "2024-11-24T09:06:30.018025Z",
     "shell.execute_reply": "2024-11-24T09:06:30.016667Z"
    },
    "papermill": {
     "duration": 0.01685,
     "end_time": "2024-11-24T09:06:30.020589",
     "exception": false,
     "start_time": "2024-11-24T09:06:30.003739",
     "status": "completed"
    },
    "tags": []
   },
   "outputs": [
    {
     "name": "stdout",
     "output_type": "stream",
     "text": [
      "Index(['Age', 'Sex', 'Race', 'Marital_Status', 'Occupation_Code',\n",
      "       'Adopted_Status', 'T_Stage_', 'N_Stage', '6th_Stage', 'differentiate',\n",
      "       'Grade', 'A_Stage', 'Tumor_Size', 'Estrogen_Status',\n",
      "       'Progesterone_Status', 'Regional_Node_Examined',\n",
      "       'Reginol_Node_Positive', 'Survival_Months', 'Mortality_Status'],\n",
      "      dtype='object')\n"
     ]
    }
   ],
   "source": [
    "print(df.columns)"
   ]
  },
  {
   "cell_type": "code",
   "execution_count": 7,
   "id": "8f2081b4",
   "metadata": {
    "execution": {
     "iopub.execute_input": "2024-11-24T09:06:30.035604Z",
     "iopub.status.busy": "2024-11-24T09:06:30.035174Z",
     "iopub.status.idle": "2024-11-24T09:06:30.059612Z",
     "shell.execute_reply": "2024-11-24T09:06:30.058366Z"
    },
    "papermill": {
     "duration": 0.035913,
     "end_time": "2024-11-24T09:06:30.063348",
     "exception": false,
     "start_time": "2024-11-24T09:06:30.027435",
     "status": "completed"
    },
    "tags": []
   },
   "outputs": [
    {
     "name": "stdout",
     "output_type": "stream",
     "text": [
      "Non-numeric values handled successfully!\n",
      "Numerical features scaled successfully!\n"
     ]
    },
    {
     "name": "stderr",
     "output_type": "stream",
     "text": [
      "/tmp/ipykernel_17/3973463872.py:5: SettingWithCopyWarning: \n",
      "A value is trying to be set on a copy of a slice from a DataFrame.\n",
      "Try using .loc[row_indexer,col_indexer] = value instead\n",
      "\n",
      "See the caveats in the documentation: https://pandas.pydata.org/pandas-docs/stable/user_guide/indexing.html#returning-a-view-versus-a-copy\n",
      "  df[col] = df[col].replace('One', 1)  # Replace 'One' with 1\n",
      "/tmp/ipykernel_17/3973463872.py:6: SettingWithCopyWarning: \n",
      "A value is trying to be set on a copy of a slice from a DataFrame.\n",
      "Try using .loc[row_indexer,col_indexer] = value instead\n",
      "\n",
      "See the caveats in the documentation: https://pandas.pydata.org/pandas-docs/stable/user_guide/indexing.html#returning-a-view-versus-a-copy\n",
      "  df[col] = pd.to_numeric(df[col], errors='coerce')  # Convert to numeric and set invalid entries to NaN\n",
      "/tmp/ipykernel_17/3973463872.py:7: SettingWithCopyWarning: \n",
      "A value is trying to be set on a copy of a slice from a DataFrame.\n",
      "Try using .loc[row_indexer,col_indexer] = value instead\n",
      "\n",
      "See the caveats in the documentation: https://pandas.pydata.org/pandas-docs/stable/user_guide/indexing.html#returning-a-view-versus-a-copy\n",
      "  df[col] = df[col].fillna(df[col].median())  # Fill missing values with median\n",
      "/tmp/ipykernel_17/3973463872.py:5: SettingWithCopyWarning: \n",
      "A value is trying to be set on a copy of a slice from a DataFrame.\n",
      "Try using .loc[row_indexer,col_indexer] = value instead\n",
      "\n",
      "See the caveats in the documentation: https://pandas.pydata.org/pandas-docs/stable/user_guide/indexing.html#returning-a-view-versus-a-copy\n",
      "  df[col] = df[col].replace('One', 1)  # Replace 'One' with 1\n",
      "/tmp/ipykernel_17/3973463872.py:6: SettingWithCopyWarning: \n",
      "A value is trying to be set on a copy of a slice from a DataFrame.\n",
      "Try using .loc[row_indexer,col_indexer] = value instead\n",
      "\n",
      "See the caveats in the documentation: https://pandas.pydata.org/pandas-docs/stable/user_guide/indexing.html#returning-a-view-versus-a-copy\n",
      "  df[col] = pd.to_numeric(df[col], errors='coerce')  # Convert to numeric and set invalid entries to NaN\n",
      "/tmp/ipykernel_17/3973463872.py:7: SettingWithCopyWarning: \n",
      "A value is trying to be set on a copy of a slice from a DataFrame.\n",
      "Try using .loc[row_indexer,col_indexer] = value instead\n",
      "\n",
      "See the caveats in the documentation: https://pandas.pydata.org/pandas-docs/stable/user_guide/indexing.html#returning-a-view-versus-a-copy\n",
      "  df[col] = df[col].fillna(df[col].median())  # Fill missing values with median\n",
      "/tmp/ipykernel_17/3973463872.py:5: SettingWithCopyWarning: \n",
      "A value is trying to be set on a copy of a slice from a DataFrame.\n",
      "Try using .loc[row_indexer,col_indexer] = value instead\n",
      "\n",
      "See the caveats in the documentation: https://pandas.pydata.org/pandas-docs/stable/user_guide/indexing.html#returning-a-view-versus-a-copy\n",
      "  df[col] = df[col].replace('One', 1)  # Replace 'One' with 1\n",
      "/tmp/ipykernel_17/3973463872.py:6: SettingWithCopyWarning: \n",
      "A value is trying to be set on a copy of a slice from a DataFrame.\n",
      "Try using .loc[row_indexer,col_indexer] = value instead\n",
      "\n",
      "See the caveats in the documentation: https://pandas.pydata.org/pandas-docs/stable/user_guide/indexing.html#returning-a-view-versus-a-copy\n",
      "  df[col] = pd.to_numeric(df[col], errors='coerce')  # Convert to numeric and set invalid entries to NaN\n",
      "/tmp/ipykernel_17/3973463872.py:7: SettingWithCopyWarning: \n",
      "A value is trying to be set on a copy of a slice from a DataFrame.\n",
      "Try using .loc[row_indexer,col_indexer] = value instead\n",
      "\n",
      "See the caveats in the documentation: https://pandas.pydata.org/pandas-docs/stable/user_guide/indexing.html#returning-a-view-versus-a-copy\n",
      "  df[col] = df[col].fillna(df[col].median())  # Fill missing values with median\n",
      "/tmp/ipykernel_17/3973463872.py:5: SettingWithCopyWarning: \n",
      "A value is trying to be set on a copy of a slice from a DataFrame.\n",
      "Try using .loc[row_indexer,col_indexer] = value instead\n",
      "\n",
      "See the caveats in the documentation: https://pandas.pydata.org/pandas-docs/stable/user_guide/indexing.html#returning-a-view-versus-a-copy\n",
      "  df[col] = df[col].replace('One', 1)  # Replace 'One' with 1\n",
      "/tmp/ipykernel_17/3973463872.py:6: SettingWithCopyWarning: \n",
      "A value is trying to be set on a copy of a slice from a DataFrame.\n",
      "Try using .loc[row_indexer,col_indexer] = value instead\n",
      "\n",
      "See the caveats in the documentation: https://pandas.pydata.org/pandas-docs/stable/user_guide/indexing.html#returning-a-view-versus-a-copy\n",
      "  df[col] = pd.to_numeric(df[col], errors='coerce')  # Convert to numeric and set invalid entries to NaN\n",
      "/tmp/ipykernel_17/3973463872.py:7: SettingWithCopyWarning: \n",
      "A value is trying to be set on a copy of a slice from a DataFrame.\n",
      "Try using .loc[row_indexer,col_indexer] = value instead\n",
      "\n",
      "See the caveats in the documentation: https://pandas.pydata.org/pandas-docs/stable/user_guide/indexing.html#returning-a-view-versus-a-copy\n",
      "  df[col] = df[col].fillna(df[col].median())  # Fill missing values with median\n",
      "/tmp/ipykernel_17/3973463872.py:5: SettingWithCopyWarning: \n",
      "A value is trying to be set on a copy of a slice from a DataFrame.\n",
      "Try using .loc[row_indexer,col_indexer] = value instead\n",
      "\n",
      "See the caveats in the documentation: https://pandas.pydata.org/pandas-docs/stable/user_guide/indexing.html#returning-a-view-versus-a-copy\n",
      "  df[col] = df[col].replace('One', 1)  # Replace 'One' with 1\n",
      "/tmp/ipykernel_17/3973463872.py:6: SettingWithCopyWarning: \n",
      "A value is trying to be set on a copy of a slice from a DataFrame.\n",
      "Try using .loc[row_indexer,col_indexer] = value instead\n",
      "\n",
      "See the caveats in the documentation: https://pandas.pydata.org/pandas-docs/stable/user_guide/indexing.html#returning-a-view-versus-a-copy\n",
      "  df[col] = pd.to_numeric(df[col], errors='coerce')  # Convert to numeric and set invalid entries to NaN\n",
      "/tmp/ipykernel_17/3973463872.py:7: SettingWithCopyWarning: \n",
      "A value is trying to be set on a copy of a slice from a DataFrame.\n",
      "Try using .loc[row_indexer,col_indexer] = value instead\n",
      "\n",
      "See the caveats in the documentation: https://pandas.pydata.org/pandas-docs/stable/user_guide/indexing.html#returning-a-view-versus-a-copy\n",
      "  df[col] = df[col].fillna(df[col].median())  # Fill missing values with median\n",
      "/tmp/ipykernel_17/3973463872.py:15: SettingWithCopyWarning: \n",
      "A value is trying to be set on a copy of a slice from a DataFrame.\n",
      "Try using .loc[row_indexer,col_indexer] = value instead\n",
      "\n",
      "See the caveats in the documentation: https://pandas.pydata.org/pandas-docs/stable/user_guide/indexing.html#returning-a-view-versus-a-copy\n",
      "  df[numerical_features] = scaler.fit_transform(df[numerical_features])\n"
     ]
    }
   ],
   "source": [
    "# Convert non-numeric entries in numerical columns\n",
    "numerical_features = ['Age', 'Occupation_Code', 'Tumor_Size', 'Regional_Node_Examined', 'Reginol_Node_Positive']\n",
    "\n",
    "for col in numerical_features:\n",
    "    df[col] = df[col].replace('One', 1)  # Replace 'One' with 1\n",
    "    df[col] = pd.to_numeric(df[col], errors='coerce')  # Convert to numeric and set invalid entries to NaN\n",
    "    df[col] = df[col].fillna(df[col].median())  # Fill missing values with median\n",
    "\n",
    "print(\"Non-numeric values handled successfully!\")\n",
    "\n",
    "from sklearn.preprocessing import StandardScaler\n",
    "\n",
    "# Scale numerical features\n",
    "scaler = StandardScaler()\n",
    "df[numerical_features] = scaler.fit_transform(df[numerical_features])\n",
    "\n",
    "print('Numerical features scaled successfully!')\n"
   ]
  },
  {
   "cell_type": "code",
   "execution_count": 8,
   "id": "05243f67",
   "metadata": {
    "execution": {
     "iopub.execute_input": "2024-11-24T09:06:30.079036Z",
     "iopub.status.busy": "2024-11-24T09:06:30.078539Z",
     "iopub.status.idle": "2024-11-24T09:06:30.109275Z",
     "shell.execute_reply": "2024-11-24T09:06:30.108068Z"
    },
    "papermill": {
     "duration": 0.041579,
     "end_time": "2024-11-24T09:06:30.111869",
     "exception": false,
     "start_time": "2024-11-24T09:06:30.070290",
     "status": "completed"
    },
    "tags": []
   },
   "outputs": [
    {
     "name": "stderr",
     "output_type": "stream",
     "text": [
      "/tmp/ipykernel_17/321295720.py:9: SettingWithCopyWarning: \n",
      "A value is trying to be set on a copy of a slice from a DataFrame.\n",
      "Try using .loc[row_indexer,col_indexer] = value instead\n",
      "\n",
      "See the caveats in the documentation: https://pandas.pydata.org/pandas-docs/stable/user_guide/indexing.html#returning-a-view-versus-a-copy\n",
      "  df[col] = label_encoders[col].fit_transform(df[col])\n",
      "/tmp/ipykernel_17/321295720.py:9: SettingWithCopyWarning: \n",
      "A value is trying to be set on a copy of a slice from a DataFrame.\n",
      "Try using .loc[row_indexer,col_indexer] = value instead\n",
      "\n",
      "See the caveats in the documentation: https://pandas.pydata.org/pandas-docs/stable/user_guide/indexing.html#returning-a-view-versus-a-copy\n",
      "  df[col] = label_encoders[col].fit_transform(df[col])\n",
      "/tmp/ipykernel_17/321295720.py:9: SettingWithCopyWarning: \n",
      "A value is trying to be set on a copy of a slice from a DataFrame.\n",
      "Try using .loc[row_indexer,col_indexer] = value instead\n",
      "\n",
      "See the caveats in the documentation: https://pandas.pydata.org/pandas-docs/stable/user_guide/indexing.html#returning-a-view-versus-a-copy\n",
      "  df[col] = label_encoders[col].fit_transform(df[col])\n",
      "/tmp/ipykernel_17/321295720.py:9: SettingWithCopyWarning: \n",
      "A value is trying to be set on a copy of a slice from a DataFrame.\n",
      "Try using .loc[row_indexer,col_indexer] = value instead\n",
      "\n",
      "See the caveats in the documentation: https://pandas.pydata.org/pandas-docs/stable/user_guide/indexing.html#returning-a-view-versus-a-copy\n",
      "  df[col] = label_encoders[col].fit_transform(df[col])\n",
      "/tmp/ipykernel_17/321295720.py:9: SettingWithCopyWarning: \n",
      "A value is trying to be set on a copy of a slice from a DataFrame.\n",
      "Try using .loc[row_indexer,col_indexer] = value instead\n",
      "\n",
      "See the caveats in the documentation: https://pandas.pydata.org/pandas-docs/stable/user_guide/indexing.html#returning-a-view-versus-a-copy\n",
      "  df[col] = label_encoders[col].fit_transform(df[col])\n",
      "/tmp/ipykernel_17/321295720.py:9: SettingWithCopyWarning: \n",
      "A value is trying to be set on a copy of a slice from a DataFrame.\n",
      "Try using .loc[row_indexer,col_indexer] = value instead\n",
      "\n",
      "See the caveats in the documentation: https://pandas.pydata.org/pandas-docs/stable/user_guide/indexing.html#returning-a-view-versus-a-copy\n",
      "  df[col] = label_encoders[col].fit_transform(df[col])\n",
      "/tmp/ipykernel_17/321295720.py:9: SettingWithCopyWarning: \n",
      "A value is trying to be set on a copy of a slice from a DataFrame.\n",
      "Try using .loc[row_indexer,col_indexer] = value instead\n",
      "\n",
      "See the caveats in the documentation: https://pandas.pydata.org/pandas-docs/stable/user_guide/indexing.html#returning-a-view-versus-a-copy\n",
      "  df[col] = label_encoders[col].fit_transform(df[col])\n",
      "/tmp/ipykernel_17/321295720.py:9: SettingWithCopyWarning: \n",
      "A value is trying to be set on a copy of a slice from a DataFrame.\n",
      "Try using .loc[row_indexer,col_indexer] = value instead\n",
      "\n",
      "See the caveats in the documentation: https://pandas.pydata.org/pandas-docs/stable/user_guide/indexing.html#returning-a-view-versus-a-copy\n",
      "  df[col] = label_encoders[col].fit_transform(df[col])\n",
      "/tmp/ipykernel_17/321295720.py:9: SettingWithCopyWarning: \n",
      "A value is trying to be set on a copy of a slice from a DataFrame.\n",
      "Try using .loc[row_indexer,col_indexer] = value instead\n",
      "\n",
      "See the caveats in the documentation: https://pandas.pydata.org/pandas-docs/stable/user_guide/indexing.html#returning-a-view-versus-a-copy\n",
      "  df[col] = label_encoders[col].fit_transform(df[col])\n",
      "/tmp/ipykernel_17/321295720.py:9: SettingWithCopyWarning: \n",
      "A value is trying to be set on a copy of a slice from a DataFrame.\n",
      "Try using .loc[row_indexer,col_indexer] = value instead\n",
      "\n",
      "See the caveats in the documentation: https://pandas.pydata.org/pandas-docs/stable/user_guide/indexing.html#returning-a-view-versus-a-copy\n",
      "  df[col] = label_encoders[col].fit_transform(df[col])\n"
     ]
    },
    {
     "name": "stdout",
     "output_type": "stream",
     "text": [
      "Encoding and scaling completed!\n"
     ]
    },
    {
     "name": "stderr",
     "output_type": "stream",
     "text": [
      "/tmp/ipykernel_17/321295720.py:15: SettingWithCopyWarning: \n",
      "A value is trying to be set on a copy of a slice from a DataFrame.\n",
      "Try using .loc[row_indexer,col_indexer] = value instead\n",
      "\n",
      "See the caveats in the documentation: https://pandas.pydata.org/pandas-docs/stable/user_guide/indexing.html#returning-a-view-versus-a-copy\n",
      "  df[numerical_features] = scaler.fit_transform(df[numerical_features])\n"
     ]
    }
   ],
   "source": [
    "from sklearn.preprocessing import LabelEncoder, StandardScaler\n",
    "\n",
    "# Encode categorical variables\n",
    "categorical_features = ['Sex', 'Race', 'Marital_Status', 'T_Stage_', 'N_Stage', \n",
    "                        '6th_Stage', 'differentiate', 'Estrogen_Status', 'Progesterone_Status', 'A_Stage']\n",
    "label_encoders = {col: LabelEncoder() for col in categorical_features}\n",
    "\n",
    "for col in categorical_features:\n",
    "    df[col] = label_encoders[col].fit_transform(df[col])\n",
    "\n",
    "# Scale numerical features\n",
    "numerical_features = ['Age', 'Occupation_Code', 'Tumor_Size', \n",
    "                      'Regional_Node_Examined', 'Reginol_Node_Positive']\n",
    "scaler = StandardScaler()\n",
    "df[numerical_features] = scaler.fit_transform(df[numerical_features])\n",
    "\n",
    "print('Encoding and scaling completed!')\n"
   ]
  },
  {
   "cell_type": "code",
   "execution_count": 9,
   "id": "ff8661c5",
   "metadata": {
    "_cell_guid": "b1076dfc-b9ad-4769-8c92-a6c4dae69d19",
    "_uuid": "8f2839f25d086af736a60e9eeb907d3b93b6e0e5",
    "execution": {
     "iopub.execute_input": "2024-11-24T09:06:30.127320Z",
     "iopub.status.busy": "2024-11-24T09:06:30.126935Z",
     "iopub.status.idle": "2024-11-24T09:06:30.142253Z",
     "shell.execute_reply": "2024-11-24T09:06:30.141139Z"
    },
    "papermill": {
     "duration": 0.025784,
     "end_time": "2024-11-24T09:06:30.144631",
     "exception": false,
     "start_time": "2024-11-24T09:06:30.118847",
     "status": "completed"
    },
    "tags": []
   },
   "outputs": [
    {
     "name": "stdout",
     "output_type": "stream",
     "text": [
      "Training set: (3207, 17), Test set: (802, 17)\n"
     ]
    }
   ],
   "source": [
    "# Define features and target\n",
    "X = df.drop(columns=['Mortality_Status', 'Survival_Months'])  # Features\n",
    "y = df['Mortality_Status']  # Target\n",
    "\n",
    "# Split into training and test sets\n",
    "X_train, X_test, y_train, y_test = train_test_split(X, y, test_size=0.2, stratify=y, random_state=42)\n",
    "\n",
    "print(f'Training set: {X_train.shape}, Test set: {X_test.shape}')\n"
   ]
  },
  {
   "cell_type": "code",
   "execution_count": 10,
   "id": "e4ba299c",
   "metadata": {
    "execution": {
     "iopub.execute_input": "2024-11-24T09:06:30.161004Z",
     "iopub.status.busy": "2024-11-24T09:06:30.160616Z",
     "iopub.status.idle": "2024-11-24T09:06:30.226613Z",
     "shell.execute_reply": "2024-11-24T09:06:30.223802Z"
    },
    "papermill": {
     "duration": 0.078088,
     "end_time": "2024-11-24T09:06:30.230104",
     "exception": false,
     "start_time": "2024-11-24T09:06:30.152016",
     "status": "completed"
    },
    "tags": []
   },
   "outputs": [
    {
     "name": "stdout",
     "output_type": "stream",
     "text": [
      "Logistic Regression model trained successfully!\n"
     ]
    }
   ],
   "source": [
    "# Logistic Regression\n",
    "logistic_model = LogisticRegression(random_state=42, max_iter=1000)\n",
    "logistic_model.fit(X_train, y_train)\n",
    "\n",
    "# Predictions\n",
    "y_pred_lr = logistic_model.predict(X_test)\n",
    "y_pred_proba_lr = logistic_model.predict_proba(X_test)[:, 1]\n",
    "\n",
    "# print(y_pred_lr)\n",
    "# print(y_pred_proba_lr)\n",
    "print('Logistic Regression model trained successfully!')\n"
   ]
  },
  {
   "cell_type": "code",
   "execution_count": 11,
   "id": "c7fcbe08",
   "metadata": {
    "execution": {
     "iopub.execute_input": "2024-11-24T09:06:30.260729Z",
     "iopub.status.busy": "2024-11-24T09:06:30.259142Z",
     "iopub.status.idle": "2024-11-24T09:06:30.294251Z",
     "shell.execute_reply": "2024-11-24T09:06:30.293123Z"
    },
    "papermill": {
     "duration": 0.056113,
     "end_time": "2024-11-24T09:06:30.299347",
     "exception": false,
     "start_time": "2024-11-24T09:06:30.243234",
     "status": "completed"
    },
    "tags": []
   },
   "outputs": [
    {
     "name": "stdout",
     "output_type": "stream",
     "text": [
      "Confusion Matrix:\n",
      " [[670   9]\n",
      " [105  18]]\n",
      "Classification Report:\n",
      "               precision    recall  f1-score   support\n",
      "\n",
      "         0.0       0.86      0.99      0.92       679\n",
      "         1.0       0.67      0.15      0.24       123\n",
      "\n",
      "    accuracy                           0.86       802\n",
      "   macro avg       0.77      0.57      0.58       802\n",
      "weighted avg       0.83      0.86      0.82       802\n",
      "\n",
      "ROC AUC Score: 0.7386639845779901\n"
     ]
    }
   ],
   "source": [
    "from sklearn.metrics import confusion_matrix, classification_report, roc_auc_score\n",
    "\n",
    "# Evaluation metrics\n",
    "conf_matrix_lr = confusion_matrix(y_test, y_pred_lr)\n",
    "classification_report_lr = classification_report(y_test, y_pred_lr)\n",
    "roc_auc_lr = roc_auc_score(y_test, y_pred_proba_lr)\n",
    "\n",
    "print('Confusion Matrix:\\n', conf_matrix_lr)\n",
    "print('Classification Report:\\n', classification_report_lr)\n",
    "print('ROC AUC Score:', roc_auc_lr)\n"
   ]
  },
  {
   "cell_type": "code",
   "execution_count": 12,
   "id": "7bb31bea",
   "metadata": {
    "execution": {
     "iopub.execute_input": "2024-11-24T09:06:30.328913Z",
     "iopub.status.busy": "2024-11-24T09:06:30.327651Z",
     "iopub.status.idle": "2024-11-24T09:06:30.348362Z",
     "shell.execute_reply": "2024-11-24T09:06:30.347201Z"
    },
    "papermill": {
     "duration": 0.038069,
     "end_time": "2024-11-24T09:06:30.350854",
     "exception": false,
     "start_time": "2024-11-24T09:06:30.312785",
     "status": "completed"
    },
    "tags": []
   },
   "outputs": [
    {
     "name": "stdout",
     "output_type": "stream",
     "text": [
      "GaussianNB()\n"
     ]
    }
   ],
   "source": [
    "from sklearn.naive_bayes import GaussianNB\n",
    "\n",
    "# Initialize and train the model\n",
    "nb_model = GaussianNB()\n",
    "nb_model.fit(X_train, y_train)\n",
    "\n",
    "print(nb_model)"
   ]
  },
  {
   "cell_type": "code",
   "execution_count": 13,
   "id": "88140358",
   "metadata": {
    "execution": {
     "iopub.execute_input": "2024-11-24T09:06:30.367781Z",
     "iopub.status.busy": "2024-11-24T09:06:30.367364Z",
     "iopub.status.idle": "2024-11-24T09:06:30.416339Z",
     "shell.execute_reply": "2024-11-24T09:06:30.415038Z"
    },
    "papermill": {
     "duration": 0.061248,
     "end_time": "2024-11-24T09:06:30.420290",
     "exception": false,
     "start_time": "2024-11-24T09:06:30.359042",
     "status": "completed"
    },
    "tags": []
   },
   "outputs": [
    {
     "name": "stdout",
     "output_type": "stream",
     "text": [
      "Confusion Matrix (Untuned Logistic Regression):\n",
      "[[670   9]\n",
      " [104  19]]\n",
      "\n",
      "Classification Report (Untuned Logistic Regression):\n",
      "              precision    recall  f1-score   support\n",
      "\n",
      "         0.0       0.87      0.99      0.92       679\n",
      "         1.0       0.68      0.15      0.25       123\n",
      "\n",
      "    accuracy                           0.86       802\n",
      "   macro avg       0.77      0.57      0.59       802\n",
      "weighted avg       0.84      0.86      0.82       802\n",
      "\n",
      "\n",
      "ROC-AUC (Untuned Logistic Regression): 0.7376941221547708\n"
     ]
    }
   ],
   "source": [
    "from sklearn.linear_model import LogisticRegression\n",
    "from sklearn.metrics import confusion_matrix, classification_report, roc_auc_score\n",
    "\n",
    "# Train an untuned Logistic Regression model\n",
    "untuned_lr_model = LogisticRegression(random_state=42, max_iter=1000, solver='liblinear')  # Default solver\n",
    "untuned_lr_model.fit(X_train, y_train)\n",
    "\n",
    "# Predict on the test set\n",
    "untuned_y_pred_lr = untuned_lr_model.predict(X_test)\n",
    "untuned_y_pred_proba_lr = untuned_lr_model.predict_proba(X_test)[:, 1]\n",
    "\n",
    "# Evaluate the untuned model\n",
    "print(\"Confusion Matrix (Untuned Logistic Regression):\")\n",
    "print(confusion_matrix(y_test, untuned_y_pred_lr))\n",
    "print(\"\\nClassification Report (Untuned Logistic Regression):\")\n",
    "print(classification_report(y_test, untuned_y_pred_lr))\n",
    "print(\"\\nROC-AUC (Untuned Logistic Regression):\", roc_auc_score(y_test, untuned_y_pred_proba_lr))\n",
    "\n"
   ]
  },
  {
   "cell_type": "code",
   "execution_count": 14,
   "id": "c1b90d29",
   "metadata": {
    "execution": {
     "iopub.execute_input": "2024-11-24T09:06:30.455884Z",
     "iopub.status.busy": "2024-11-24T09:06:30.453682Z",
     "iopub.status.idle": "2024-11-24T09:06:30.503785Z",
     "shell.execute_reply": "2024-11-24T09:06:30.502691Z"
    },
    "papermill": {
     "duration": 0.07172,
     "end_time": "2024-11-24T09:06:30.507638",
     "exception": false,
     "start_time": "2024-11-24T09:06:30.435918",
     "status": "completed"
    },
    "tags": []
   },
   "outputs": [
    {
     "name": "stdout",
     "output_type": "stream",
     "text": [
      "Confusion Matrix (Untuned Logistic Regression):\n",
      "[[670   9]\n",
      " [104  19]]\n",
      "\n",
      "Classification Report (Untuned Logistic Regression):\n",
      "              precision    recall  f1-score   support\n",
      "\n",
      "         0.0       0.87      0.99      0.92       679\n",
      "         1.0       0.68      0.15      0.25       123\n",
      "\n",
      "    accuracy                           0.86       802\n",
      "   macro avg       0.77      0.57      0.59       802\n",
      "weighted avg       0.84      0.86      0.82       802\n",
      "\n",
      "\n",
      "ROC-AUC (Untuned Logistic Regression): 0.7376941221547708\n"
     ]
    }
   ],
   "source": [
    "# Predict on the test set with the untuned model\n",
    "untuned_y_pred_lr = untuned_lr_model.predict(X_test)\n",
    "untuned_y_pred_proba_lr = untuned_lr_model.predict_proba(X_test)[:, 1]\n",
    "\n",
    "# Evaluate the untuned model\n",
    "print(\"Confusion Matrix (Untuned Logistic Regression):\")\n",
    "print(confusion_matrix(y_test, untuned_y_pred_lr))\n",
    "print(\"\\nClassification Report (Untuned Logistic Regression):\")\n",
    "print(classification_report(y_test, untuned_y_pred_lr))\n",
    "print(\"\\nROC-AUC (Untuned Logistic Regression):\", roc_auc_score(y_test, untuned_y_pred_proba_lr))\n"
   ]
  },
  {
   "cell_type": "code",
   "execution_count": 15,
   "id": "d32c9d8d",
   "metadata": {
    "execution": {
     "iopub.execute_input": "2024-11-24T09:06:30.542965Z",
     "iopub.status.busy": "2024-11-24T09:06:30.539010Z",
     "iopub.status.idle": "2024-11-24T09:06:30.868773Z",
     "shell.execute_reply": "2024-11-24T09:06:30.867498Z"
    },
    "papermill": {
     "duration": 0.348619,
     "end_time": "2024-11-24T09:06:30.871169",
     "exception": false,
     "start_time": "2024-11-24T09:06:30.522550",
     "status": "completed"
    },
    "tags": []
   },
   "outputs": [
    {
     "data": {
      "image/png": "[encoded data removed]",
      "text/plain": [
       "<Figure size 640x480 with 2 Axes>"
      ]
     },
     "metadata": {},
     "output_type": "display_data"
    }
   ],
   "source": [
    "from sklearn.metrics import ConfusionMatrixDisplay\n",
    "import matplotlib.pyplot as plt\n",
    "\n",
    "# Train untuned Logistic Regression\n",
    "untuned_lr_model = LogisticRegression(random_state=42, max_iter=1000, solver='liblinear')  # Untuned model\n",
    "untuned_lr_model.fit(X_train, y_train)\n",
    "\n",
    "# Confusion matrix for untuned Logistic Regression\n",
    "disp = ConfusionMatrixDisplay.from_estimator(untuned_lr_model, X_test, y_test, display_labels=['Alive', 'Dead'], cmap='Blues')\n",
    "plt.title(\"Confusion Matrix for Untuned Logistic Regression\")\n",
    "plt.show()\n",
    "\n"
   ]
  },
  {
   "cell_type": "code",
   "execution_count": 16,
   "id": "631b1dfe",
   "metadata": {
    "execution": {
     "iopub.execute_input": "2024-11-24T09:06:30.889775Z",
     "iopub.status.busy": "2024-11-24T09:06:30.889354Z",
     "iopub.status.idle": "2024-11-24T09:06:35.779240Z",
     "shell.execute_reply": "2024-11-24T09:06:35.778099Z"
    },
    "papermill": {
     "duration": 4.90233,
     "end_time": "2024-11-24T09:06:35.781451",
     "exception": false,
     "start_time": "2024-11-24T09:06:30.879121",
     "status": "completed"
    },
    "tags": []
   },
   "outputs": [
    {
     "name": "stdout",
     "output_type": "stream",
     "text": [
      "Best parameters for Logistic Regression: {'C': 0.1, 'solver': 'saga'}\n",
      "Best score for Logistic Regression: 0.8565612531043298\n"
     ]
    },
    {
     "data": {
      "image/png": "[encoded data removed]",
      "text/plain": [
       "<Figure size 1200x600 with 4 Axes>"
      ]
     },
     "metadata": {},
     "output_type": "display_data"
    }
   ],
   "source": [
    "# fig, axes = plt.subplots(1, 2, figsize=(12, 6))\n",
    "\n",
    "# # Confusion matrix for untuned Logistic Regression\n",
    "# ConfusionMatrixDisplay.from_estimator(untuned_lr_model, X_test, y_test, display_labels=['Alive', 'Dead'], cmap='Blues', ax=axes[0])\n",
    "# axes[0].set_title(\"Untuned Logistic Regression\")\n",
    "\n",
    "# # Confusion matrix for tuned Logistic Regression\n",
    "# ConfusionMatrixDisplay.from_estimator(grid_lr.best_estimator_, X_test, y_test, display_labels=['Alive', 'Dead'], cmap='Blues', ax=axes[1])\n",
    "# axes[1].set_title(\"Tuned Logistic Regression\")\n",
    "\n",
    "# plt.tight_layout()\n",
    "# plt.show()\n",
    "\n",
    "from sklearn.linear_model import LogisticRegression\n",
    "from sklearn.model_selection import GridSearchCV\n",
    "\n",
    "# Hyperparameter grid for Logistic Regression\n",
    "lr_params = {'C': [0.01, 0.1, 1, 10, 100], 'solver': ['liblinear', 'saga']}\n",
    "\n",
    "# Create and fit GridSearchCV for Logistic Regression\n",
    "grid_lr = GridSearchCV(LogisticRegression(random_state=42, max_iter=1000), param_grid=lr_params, cv=5, scoring='accuracy')\n",
    "grid_lr.fit(X_train, y_train)\n",
    "\n",
    "# Print best parameters and score\n",
    "print(\"Best parameters for Logistic Regression:\", grid_lr.best_params_)\n",
    "print(\"Best score for Logistic Regression:\", grid_lr.best_score_)\n",
    "\n",
    "fig, axes = plt.subplots(1, 2, figsize=(12, 6))\n",
    "\n",
    "# Confusion matrix for untuned Logistic Regression\n",
    "disp = ConfusionMatrixDisplay.from_estimator(untuned_lr_model, X_test, y_test, display_labels=['Alive', 'Dead'], cmap='Blues', ax=axes[0])\n",
    "axes[0].set_title(\"Untuned Logistic Regression\")\n",
    "\n",
    "\n",
    "# Confusion matrix for tuned Logistic Regression\n",
    "ConfusionMatrixDisplay.from_estimator(grid_lr.best_estimator_, X_test, y_test, display_labels=['Alive', 'Dead'], cmap='Reds', ax=axes[1])\n",
    "axes[1].set_title(\"Tuned Logistic Regression\")\n",
    "\n",
    "plt.tight_layout()\n",
    "plt.show()\n"
   ]
  },
  {
   "cell_type": "code",
   "execution_count": 17,
   "id": "51da8f08",
   "metadata": {
    "execution": {
     "iopub.execute_input": "2024-11-24T09:06:35.800352Z",
     "iopub.status.busy": "2024-11-24T09:06:35.799930Z",
     "iopub.status.idle": "2024-11-24T09:06:36.109375Z",
     "shell.execute_reply": "2024-11-24T09:06:36.108251Z"
    },
    "papermill": {
     "duration": 0.32164,
     "end_time": "2024-11-24T09:06:36.111708",
     "exception": false,
     "start_time": "2024-11-24T09:06:35.790068",
     "status": "completed"
    },
    "tags": []
   },
   "outputs": [
    {
     "data": {
      "image/png": "[encoded data removed]",
      "text/plain": [
       "<Figure size 1000x600 with 1 Axes>"
      ]
     },
     "metadata": {},
     "output_type": "display_data"
    }
   ],
   "source": [
    "# Extract feature importance from the untuned Logistic Regression model\n",
    "importance = untuned_lr_model.coef_[0]  \n",
    "features = X_train.columns \n",
    "\n",
    "# Plot feature importance\n",
    "plt.figure(figsize=(10, 6))\n",
    "plt.barh(features, importance)\n",
    "plt.title(\"Feature Importance (Untuned Logistic Regression)\")\n",
    "plt.xlabel(\"Coefficient Value\")\n",
    "plt.ylabel(\"Features\")\n",
    "plt.show()\n"
   ]
  },
  {
   "cell_type": "code",
   "execution_count": 18,
   "id": "58356546",
   "metadata": {
    "execution": {
     "iopub.execute_input": "2024-11-24T09:06:36.132942Z",
     "iopub.status.busy": "2024-11-24T09:06:36.132511Z",
     "iopub.status.idle": "2024-11-24T09:06:36.302774Z",
     "shell.execute_reply": "2024-11-24T09:06:36.301602Z"
    },
    "papermill": {
     "duration": 0.186025,
     "end_time": "2024-11-24T09:06:36.307478",
     "exception": false,
     "start_time": "2024-11-24T09:06:36.121453",
     "status": "completed"
    },
    "tags": []
   },
   "outputs": [
    {
     "data": {
      "image/png": "[encoded data removed]",
      "text/plain": [
       "<Figure size 600x600 with 1 Axes>"
      ]
     },
     "metadata": {},
     "output_type": "display_data"
    }
   ],
   "source": [
    "# Generate predictions using the untuned Logistic Regression model\n",
    "predictions = untuned_lr_model.predict(X_test)\n",
    "\n",
    "# Count occurrences of each class\n",
    "unique, counts = np.unique(predictions, return_counts=True)\n",
    "\n",
    "# Plot the pie chart\n",
    "plt.figure(figsize=(6, 6))\n",
    "plt.pie(counts, labels=['Alive', 'Dead'], autopct='%1.1f%%', colors=['skyblue', 'salmon'])\n",
    "plt.title(\"Prediction Distribution (Untuned Logistic Regression)\")\n",
    "plt.show()\n"
   ]
  },
  {
   "cell_type": "code",
   "execution_count": 19,
   "id": "c4a20372",
   "metadata": {
    "execution": {
     "iopub.execute_input": "2024-11-24T09:06:36.350020Z",
     "iopub.status.busy": "2024-11-24T09:06:36.348828Z",
     "iopub.status.idle": "2024-11-24T09:06:36.356674Z",
     "shell.execute_reply": "2024-11-24T09:06:36.355608Z"
    },
    "papermill": {
     "duration": 0.03321,
     "end_time": "2024-11-24T09:06:36.360228",
     "exception": false,
     "start_time": "2024-11-24T09:06:36.327018",
     "status": "completed"
    },
    "tags": []
   },
   "outputs": [
    {
     "name": "stdout",
     "output_type": "stream",
     "text": [
      "Feature Names: ['Age', 'Sex', 'Race', 'Marital_Status', 'Occupation_Code', 'Adopted_Status', 'T_Stage_', 'N_Stage', '6th_Stage', 'differentiate', 'Grade', 'A_Stage', 'Tumor_Size', 'Estrogen_Status', 'Progesterone_Status', 'Regional_Node_Examined', 'Reginol_Node_Positive']\n",
      "Training set shape: (3207, 17)\n",
      "Test set shape: (802, 17)\n"
     ]
    }
   ],
   "source": [
    "# Display feature names and dataset shapes\n",
    "print(\"Feature Names:\", X_train.columns.tolist())\n",
    "print(\"Training set shape:\", X_train.shape)\n",
    "print(\"Test set shape:\", X_test.shape)\n"
   ]
  },
  {
   "cell_type": "code",
   "execution_count": 20,
   "id": "08d97a54",
   "metadata": {
    "execution": {
     "iopub.execute_input": "2024-11-24T09:06:36.396707Z",
     "iopub.status.busy": "2024-11-24T09:06:36.396292Z",
     "iopub.status.idle": "2024-11-24T09:06:36.409849Z",
     "shell.execute_reply": "2024-11-24T09:06:36.408659Z"
    },
    "papermill": {
     "duration": 0.032511,
     "end_time": "2024-11-24T09:06:36.412505",
     "exception": false,
     "start_time": "2024-11-24T09:06:36.379994",
     "status": "completed"
    },
    "tags": []
   },
   "outputs": [
    {
     "name": "stdout",
     "output_type": "stream",
     "text": [
      "Original Label Ratio:\n",
      " Mortality_Status\n",
      "0.0    0.847094\n",
      "1.0    0.152906\n",
      "Name: proportion, dtype: float64\n",
      "Training Label Ratio:\n",
      " Mortality_Status\n",
      "0.0    0.847209\n",
      "1.0    0.152791\n",
      "Name: proportion, dtype: float64\n",
      "Test Label Ratio:\n",
      " Mortality_Status\n",
      "0.0    0.846633\n",
      "1.0    0.153367\n",
      "Name: proportion, dtype: float64\n"
     ]
    }
   ],
   "source": [
    "print(\"Original Label Ratio:\\n\", y.value_counts(normalize=True))\n",
    "print(\"Training Label Ratio:\\n\", y_train.value_counts(normalize=True))\n",
    "print(\"Test Label Ratio:\\n\", y_test.value_counts(normalize=True))\n"
   ]
  },
  {
   "cell_type": "code",
   "execution_count": 21,
   "id": "32895d18",
   "metadata": {
    "execution": {
     "iopub.execute_input": "2024-11-24T09:06:36.435514Z",
     "iopub.status.busy": "2024-11-24T09:06:36.434843Z",
     "iopub.status.idle": "2024-11-24T09:06:36.446750Z",
     "shell.execute_reply": "2024-11-24T09:06:36.445446Z"
    },
    "papermill": {
     "duration": 0.026366,
     "end_time": "2024-11-24T09:06:36.448907",
     "exception": false,
     "start_time": "2024-11-24T09:06:36.422541",
     "status": "completed"
    },
    "tags": []
   },
   "outputs": [
    {
     "name": "stdout",
     "output_type": "stream",
     "text": [
      "                 Model  Accuracy  Precision (Dead)  Recall (Dead)  \\\n",
      "0  Logistic Regression      0.86              0.70           0.15   \n",
      "1  K-Nearest Neighbors      0.84              0.41           0.13   \n",
      "2          Naive Bayes      0.78              0.32           0.37   \n",
      "\n",
      "   F1-Score (Dead)  ROC-AUC  \n",
      "0             0.25     0.73  \n",
      "1             0.20     0.61  \n",
      "2             0.34     0.71  \n"
     ]
    }
   ],
   "source": [
    "import pandas as pd\n",
    "\n",
    "# Example performance table\n",
    "metrics = {\n",
    "    \"Model\": [\"Logistic Regression\", \"K-Nearest Neighbors\", \"Naive Bayes\"],\n",
    "    \"Accuracy\": [0.86, 0.84, 0.78],\n",
    "    \"Precision (Dead)\": [0.70, 0.41, 0.32],\n",
    "    \"Recall (Dead)\": [0.15, 0.13, 0.37],\n",
    "    \"F1-Score (Dead)\": [0.25, 0.20, 0.34],\n",
    "    \"ROC-AUC\": [0.73, 0.61, 0.71],\n",
    "}\n",
    "\n",
    "df_metrics = pd.DataFrame(metrics)\n",
    "print(df_metrics)\n"
   ]
  },
  {
   "cell_type": "code",
   "execution_count": 22,
   "id": "48b3942b",
   "metadata": {
    "execution": {
     "iopub.execute_input": "2024-11-24T09:06:36.471885Z",
     "iopub.status.busy": "2024-11-24T09:06:36.471434Z",
     "iopub.status.idle": "2024-11-24T09:06:36.697332Z",
     "shell.execute_reply": "2024-11-24T09:06:36.696103Z"
    },
    "papermill": {
     "duration": 0.239621,
     "end_time": "2024-11-24T09:06:36.699734",
     "exception": false,
     "start_time": "2024-11-24T09:06:36.460113",
     "status": "completed"
    },
    "tags": []
   },
   "outputs": [
    {
     "data": {
      "image/png": "[encoded data removed]",
      "text/plain": [
       "<Figure size 640x480 with 1 Axes>"
      ]
     },
     "metadata": {},
     "output_type": "display_data"
    }
   ],
   "source": [
    "import matplotlib.pyplot as plt\n",
    "\n",
    "# Example bar plot\n",
    "models = [\"Logistic Regression\", \"K-Nearest Neighbors\", \"Naive Bayes\"]\n",
    "auc_scores = [0.73, 0.61, 0.71]\n",
    "\n",
    "plt.bar(models, auc_scores)\n",
    "plt.title(\"ROC-AUC Comparison\")\n",
    "plt.ylabel(\"ROC-AUC Score\")\n",
    "plt.show()\n"
   ]
  },
  {
   "cell_type": "code",
   "execution_count": 23,
   "id": "699d5218",
   "metadata": {
    "execution": {
     "iopub.execute_input": "2024-11-24T09:06:36.722405Z",
     "iopub.status.busy": "2024-11-24T09:06:36.721986Z",
     "iopub.status.idle": "2024-11-24T09:06:36.749276Z",
     "shell.execute_reply": "2024-11-24T09:06:36.748078Z"
    },
    "papermill": {
     "duration": 0.041732,
     "end_time": "2024-11-24T09:06:36.751853",
     "exception": false,
     "start_time": "2024-11-24T09:06:36.710121",
     "status": "completed"
    },
    "tags": []
   },
   "outputs": [
    {
     "name": "stdout",
     "output_type": "stream",
     "text": [
      "done!\n"
     ]
    }
   ],
   "source": [
    "from sklearn.naive_bayes import GaussianNB\n",
    "\n",
    "# Initialize Naive Bayes model\n",
    "nb_model = GaussianNB()\n",
    "\n",
    "# Train the model\n",
    "nb_model.fit(X_train, y_train)\n",
    "\n",
    "# Make predictions\n",
    "y_pred_nb = nb_model.predict(X_test)\n",
    "y_pred_proba_nb = nb_model.predict_proba(X_test)[:, 1]\n",
    "\n",
    "# Evaluate the model\n",
    "conf_matrix_nb = confusion_matrix(y_test, y_pred_nb)\n",
    "classification_report_nb = classification_report(y_test, y_pred_nb)\n",
    "roc_auc_nb = roc_auc_score(y_test, y_pred_proba_nb)\n",
    "\n",
    "print('done!')"
   ]
  },
  {
   "cell_type": "code",
   "execution_count": 24,
   "id": "ed7fa391",
   "metadata": {
    "execution": {
     "iopub.execute_input": "2024-11-24T09:06:36.774989Z",
     "iopub.status.busy": "2024-11-24T09:06:36.774559Z",
     "iopub.status.idle": "2024-11-24T09:06:36.782211Z",
     "shell.execute_reply": "2024-11-24T09:06:36.780954Z"
    },
    "papermill": {
     "duration": 0.021707,
     "end_time": "2024-11-24T09:06:36.784397",
     "exception": false,
     "start_time": "2024-11-24T09:06:36.762690",
     "status": "completed"
    },
    "tags": []
   },
   "outputs": [
    {
     "name": "stdout",
     "output_type": "stream",
     "text": [
      "Confusion Matrix (Logistic Regression):\n",
      " [[670   9]\n",
      " [105  18]]\n",
      "\n",
      "Classification Report (Logistic Regression):\n",
      "               precision    recall  f1-score   support\n",
      "\n",
      "         0.0       0.86      0.99      0.92       679\n",
      "         1.0       0.67      0.15      0.24       123\n",
      "\n",
      "    accuracy                           0.86       802\n",
      "   macro avg       0.77      0.57      0.58       802\n",
      "weighted avg       0.83      0.86      0.82       802\n",
      "\n",
      "\n",
      "ROC-AUC Score (Logistic Regression): 0.7386639845779901\n",
      "Confusion Matrix:\n",
      " [[670   9]\n",
      " [105  18]]\n",
      "Classification Report:\n",
      "               precision    recall  f1-score   support\n",
      "\n",
      "         0.0       0.86      0.99      0.92       679\n",
      "         1.0       0.67      0.15      0.24       123\n",
      "\n",
      "    accuracy                           0.86       802\n",
      "   macro avg       0.77      0.57      0.58       802\n",
      "weighted avg       0.83      0.86      0.82       802\n",
      "\n",
      "ROC AUC Score: 0.7386639845779901\n",
      "Confusion Matrix (Naive Bayes):\n",
      " [[572 107]\n",
      " [ 72  51]]\n",
      "\n",
      "Classification Report (Naive Bayes):\n",
      "               precision    recall  f1-score   support\n",
      "\n",
      "         0.0       0.89      0.84      0.86       679\n",
      "         1.0       0.32      0.41      0.36       123\n",
      "\n",
      "    accuracy                           0.78       802\n",
      "   macro avg       0.61      0.63      0.61       802\n",
      "weighted avg       0.80      0.78      0.79       802\n",
      "\n",
      "\n",
      "ROC-AUC Score (Naive Bayes): 0.7129925643880887\n"
     ]
    }
   ],
   "source": [
    "# Show all performance metrics\n",
    "print(\"Confusion Matrix (Logistic Regression):\\n\", conf_matrix_lr)\n",
    "print(\"\\nClassification Report (Logistic Regression):\\n\", classification_report_lr)\n",
    "print(\"\\nROC-AUC Score (Logistic Regression):\", roc_auc_lr)\n",
    "\n",
    "print('Confusion Matrix:\\n', conf_matrix_lr)\n",
    "print('Classification Report:\\n', classification_report_lr)\n",
    "print('ROC AUC Score:', roc_auc_lr)\n",
    "\n",
    "print(\"Confusion Matrix (Naive Bayes):\\n\", conf_matrix_nb)\n",
    "print(\"\\nClassification Report (Naive Bayes):\\n\", classification_report_nb)\n",
    "print(\"\\nROC-AUC Score (Naive Bayes):\", roc_auc_nb)"
   ]
  },
  {
   "cell_type": "code",
   "execution_count": 25,
   "id": "0bbd7998",
   "metadata": {
    "execution": {
     "iopub.execute_input": "2024-11-24T09:06:36.807361Z",
     "iopub.status.busy": "2024-11-24T09:06:36.806957Z",
     "iopub.status.idle": "2024-11-24T09:06:36.854507Z",
     "shell.execute_reply": "2024-11-24T09:06:36.853061Z"
    },
    "papermill": {
     "duration": 0.062479,
     "end_time": "2024-11-24T09:06:36.857442",
     "exception": false,
     "start_time": "2024-11-24T09:06:36.794963",
     "status": "completed"
    },
    "tags": []
   },
   "outputs": [
    {
     "name": "stdout",
     "output_type": "stream",
     "text": [
      "Training Set Performance:\n",
      "              precision    recall  f1-score   support\n",
      "\n",
      "         0.0       0.89      0.86      0.88      2717\n",
      "         1.0       0.35      0.42      0.38       490\n",
      "\n",
      "    accuracy                           0.79      3207\n",
      "   macro avg       0.62      0.64      0.63      3207\n",
      "weighted avg       0.81      0.79      0.80      3207\n",
      "\n",
      "Training ROC-AUC: 0.731559042461298\n",
      "\n",
      "Test Set Performance:\n",
      "              precision    recall  f1-score   support\n",
      "\n",
      "         0.0       0.89      0.84      0.86       679\n",
      "         1.0       0.32      0.41      0.36       123\n",
      "\n",
      "    accuracy                           0.78       802\n",
      "   macro avg       0.61      0.63      0.61       802\n",
      "weighted avg       0.80      0.78      0.79       802\n",
      "\n",
      "Test ROC-AUC: 0.7129925643880887\n"
     ]
    }
   ],
   "source": [
    "from sklearn.metrics import classification_report, roc_auc_score\n",
    "\n",
    "# Training set evaluation\n",
    "y_train_pred = nb_model.predict(X_train)\n",
    "y_train_pred_proba = nb_model.predict_proba(X_train)[:, 1]\n",
    "\n",
    "train_report = classification_report(y_train, y_train_pred)\n",
    "train_roc_auc = roc_auc_score(y_train, y_train_pred_proba)\n",
    "\n",
    "# Test set evaluation\n",
    "y_test_pred = nb_model.predict(X_test)\n",
    "y_test_pred_proba = nb_model.predict_proba(X_test)[:, 1]\n",
    "\n",
    "test_report = classification_report(y_test, y_test_pred)\n",
    "test_roc_auc = roc_auc_score(y_test, y_test_pred_proba)\n",
    "\n",
    "# Print results\n",
    "print(\"Training Set Performance:\")\n",
    "print(train_report)\n",
    "print(\"Training ROC-AUC:\", train_roc_auc)\n",
    "\n",
    "print(\"\\nTest Set Performance:\")\n",
    "print(test_report)\n",
    "print(\"Test ROC-AUC:\", test_roc_auc)\n"
   ]
  },
  {
   "cell_type": "code",
   "execution_count": 26,
   "id": "f12b378a",
   "metadata": {
    "execution": {
     "iopub.execute_input": "2024-11-24T09:06:36.880797Z",
     "iopub.status.busy": "2024-11-24T09:06:36.880402Z",
     "iopub.status.idle": "2024-11-24T09:06:37.101086Z",
     "shell.execute_reply": "2024-11-24T09:06:37.099748Z"
    },
    "papermill": {
     "duration": 0.234856,
     "end_time": "2024-11-24T09:06:37.103330",
     "exception": false,
     "start_time": "2024-11-24T09:06:36.868474",
     "status": "completed"
    },
    "tags": []
   },
   "outputs": [
    {
     "name": "stdout",
     "output_type": "stream",
     "text": [
      "Fitting 5 folds for each of 4 candidates, totalling 20 fits\n",
      "Best Parameters: {'var_smoothing': 1e-09}\n",
      "Best ROC-AUC Score from Cross-Validation: 0.7269852312471949\n",
      "\n",
      "Test Classification Report:\n",
      "               precision    recall  f1-score   support\n",
      "\n",
      "         0.0       0.89      0.84      0.86       679\n",
      "         1.0       0.32      0.41      0.36       123\n",
      "\n",
      "    accuracy                           0.78       802\n",
      "   macro avg       0.61      0.63      0.61       802\n",
      "weighted avg       0.80      0.78      0.79       802\n",
      "\n",
      "Test ROC-AUC Score: 0.7129925643880887\n"
     ]
    }
   ],
   "source": [
    "from sklearn.model_selection import GridSearchCV\n",
    "from sklearn.naive_bayes import GaussianNB\n",
    "from sklearn.metrics import classification_report, roc_auc_score\n",
    "\n",
    "# Define hyperparameter grid for Naive Bayes\n",
    "param_grid = {\n",
    "    'var_smoothing': [1e-9, 1e-8, 1e-7, 1e-6]  # Range of values for variance smoothing\n",
    "}\n",
    "\n",
    "# Initialize GridSearchCV\n",
    "grid_search = GridSearchCV(estimator=GaussianNB(),\n",
    "                           param_grid=param_grid,\n",
    "                           scoring='roc_auc',  \n",
    "                           cv=5,  \n",
    "                           verbose=1)\n",
    "\n",
    "# Fit GridSearchCV\n",
    "grid_search.fit(X_train, y_train)\n",
    "\n",
    "# Best parameters and score\n",
    "best_params = grid_search.best_params_\n",
    "best_model = grid_search.best_estimator_\n",
    "best_score = grid_search.best_score_\n",
    "\n",
    "print(\"Best Parameters:\", best_params)\n",
    "print(\"Best ROC-AUC Score from Cross-Validation:\", best_score)\n",
    "\n",
    "# Re-train best model on full training data and evaluate on test set\n",
    "y_test_pred = best_model.predict(X_test)\n",
    "y_test_proba = best_model.predict_proba(X_test)[:, 1]\n",
    "\n",
    "test_report = classification_report(y_test, y_test_pred)\n",
    "test_roc_auc = roc_auc_score(y_test, y_test_proba)\n",
    "\n",
    "print(\"\\nTest Classification Report:\\n\", test_report)\n",
    "print(\"Test ROC-AUC Score:\", test_roc_auc)\n"
   ]
  },
  {
   "cell_type": "code",
   "execution_count": 27,
   "id": "fdf23535",
   "metadata": {
    "execution": {
     "iopub.execute_input": "2024-11-24T09:06:37.127176Z",
     "iopub.status.busy": "2024-11-24T09:06:37.126781Z",
     "iopub.status.idle": "2024-11-24T09:06:37.677470Z",
     "shell.execute_reply": "2024-11-24T09:06:37.676028Z"
    },
    "papermill": {
     "duration": 0.565625,
     "end_time": "2024-11-24T09:06:37.679856",
     "exception": false,
     "start_time": "2024-11-24T09:06:37.114231",
     "status": "completed"
    },
    "tags": []
   },
   "outputs": [
    {
     "name": "stdout",
     "output_type": "stream",
     "text": [
      "Untuned Model Metrics:\n",
      "Precision (Dead): 0.68\n",
      "Recall (Dead): 0.15\n",
      "F1-Score (Dead): 0.25\n",
      "ROC-AUC: 0.74\n",
      "\n",
      "Tuned Model Metrics:\n",
      "Precision (Dead): 0.67\n",
      "Recall (Dead): 0.15\n",
      "F1-Score (Dead): 0.24\n",
      "ROC-AUC: 0.74\n",
      "\n"
     ]
    },
    {
     "data": {
      "image/png": "[encoded data removed]",
      "text/plain": [
       "<Figure size 1200x600 with 4 Axes>"
      ]
     },
     "metadata": {},
     "output_type": "display_data"
    }
   ],
   "source": [
    "# Import necessary libraries\n",
    "from sklearn.linear_model import LogisticRegression\n",
    "from sklearn.metrics import (\n",
    "    precision_score,\n",
    "    recall_score,\n",
    "    f1_score,\n",
    "    roc_auc_score,\n",
    "    confusion_matrix,\n",
    "    ConfusionMatrixDisplay\n",
    ")\n",
    "import matplotlib.pyplot as plt\n",
    "\n",
    "\n",
    "# Train the untuned Logistic Regression model\n",
    "untuned_lr_model = LogisticRegression(random_state=42, max_iter=1000, solver='liblinear')\n",
    "untuned_lr_model.fit(X_train, y_train)\n",
    "\n",
    "# Predictions for the untuned model\n",
    "untuned_y_pred_lr = untuned_lr_model.predict(X_test)\n",
    "untuned_y_proba_lr = untuned_lr_model.predict_proba(X_test)[:, 1]\n",
    "\n",
    "# Predictions for the tuned model (from GridSearchCV)\n",
    "tuned_y_pred_lr = grid_lr.best_estimator_.predict(X_test)\n",
    "tuned_y_proba_lr = grid_lr.best_estimator_.predict_proba(X_test)[:, 1]\n",
    "\n",
    "# Calculate metrics for untuned model\n",
    "untuned_precision = precision_score(y_test, untuned_y_pred_lr, pos_label=1)\n",
    "untuned_recall = recall_score(y_test, untuned_y_pred_lr, pos_label=1)\n",
    "untuned_f1 = f1_score(y_test, untuned_y_pred_lr, pos_label=1)\n",
    "untuned_roc_auc = roc_auc_score(y_test, untuned_y_proba_lr)\n",
    "\n",
    "# Calculate metrics for tuned model\n",
    "tuned_precision = precision_score(y_test, tuned_y_pred_lr, pos_label=1)\n",
    "tuned_recall = recall_score(y_test, tuned_y_pred_lr, pos_label=1)\n",
    "tuned_f1 = f1_score(y_test, tuned_y_pred_lr, pos_label=1)\n",
    "tuned_roc_auc = roc_auc_score(y_test, tuned_y_proba_lr)\n",
    "\n",
    "# Compare metrics\n",
    "print(\"Untuned Model Metrics:\")\n",
    "print(f\"Precision (Dead): {untuned_precision:.2f}\")\n",
    "print(f\"Recall (Dead): {untuned_recall:.2f}\")\n",
    "print(f\"F1-Score (Dead): {untuned_f1:.2f}\")\n",
    "print(f\"ROC-AUC: {untuned_roc_auc:.2f}\\n\")\n",
    "\n",
    "print(\"Tuned Model Metrics:\")\n",
    "print(f\"Precision (Dead): {tuned_precision:.2f}\")\n",
    "print(f\"Recall (Dead): {tuned_recall:.2f}\")\n",
    "print(f\"F1-Score (Dead): {tuned_f1:.2f}\")\n",
    "print(f\"ROC-AUC: {tuned_roc_auc:.2f}\\n\")\n",
    "\n",
    "# Confusion Matrices\n",
    "fig, axes = plt.subplots(1, 2, figsize=(12, 6))\n",
    "\n",
    "# Untuned Model Confusion Matrix\n",
    "ConfusionMatrixDisplay.from_predictions(y_test, untuned_y_pred_lr, display_labels=['Alive', 'Dead'], cmap='Blues', ax=axes[0])\n",
    "axes[0].set_title(\"Untuned Logistic Regression\")\n",
    "\n",
    "# Tuned Model Confusion Matrix\n",
    "ConfusionMatrixDisplay.from_predictions(y_test, tuned_y_pred_lr, display_labels=['Alive', 'Dead'], cmap='Reds', ax=axes[1])\n",
    "axes[1].set_title(\"Tuned Logistic Regression\")\n",
    "\n",
    "plt.tight_layout()\n",
    "plt.show()\n"
   ]
  }
 ],
 "metadata": {
  "kaggle": {
   "accelerator": "none",
   "dataSources": [
    {
     "datasetId": 6145594,
     "sourceId": 9986250,
     "sourceType": "datasetVersion"
    }
   ],
   "dockerImageVersionId": 30786,
   "isGpuEnabled": false,
   "isInternetEnabled": false,
   "language": "python",
   "sourceType": "notebook"
  },
  "kernelspec": {
   "display_name": "Python 3",
   "language": "python",
   "name": "python3"
  },
  "language_info": {
   "codemirror_mode": {
    "name": "ipython",
    "version": 3
   },
   "file_extension": ".py",
   "mimetype": "text/x-python",
   "name": "python",
   "nbconvert_exporter": "python",
   "pygments_lexer": "ipython3",
   "version": "3.10.14"
  },
  "papermill": {
   "default_parameters": {},
   "duration": 14.536457,
   "end_time": "2024-11-24T09:06:38.414721",
   "environment_variables": {},
   "exception": null,
   "input_path": "__notebook__.ipynb",
   "output_path": "__notebook__.ipynb",
   "parameters": {},
   "start_time": "2024-11-24T09:06:23.878264",
   "version": "2.6.0"
  }
 },
 "nbformat": 4,
 "nbformat_minor": 5
}
